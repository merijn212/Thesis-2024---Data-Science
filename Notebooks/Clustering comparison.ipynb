{
 "cells": [
  {
   "cell_type": "markdown",
   "id": "fa675e99",
   "metadata": {},
   "source": [
    "## Cell 1: Import Libraries"
   ]
  },
  {
   "cell_type": "code",
   "execution_count": null,
   "id": "61d36020",
   "metadata": {},
   "outputs": [],
   "source": [
    "import os\n",
    "import pandas as pd\n",
    "from ebooklib import epub, ITEM_DOCUMENT\n",
    "from bs4 import BeautifulSoup\n",
    "import warnings\n",
    "import nltk\n",
    "from nltk.corpus import stopwords\n",
    "from googletrans import Translator\n",
    "from langdetect import detect\n",
    "from sklearn.feature_extraction.text import TfidfVectorizer\n",
    "from sklearn.model_selection import train_test_split\n",
    "from sklearn.svm import SVC\n",
    "from sklearn.naive_bayes import MultinomialNB\n",
    "from sklearn.linear_model import LogisticRegression\n",
    "from sklearn.ensemble import VotingClassifier, RandomForestClassifier\n",
    "from xgboost import XGBClassifier\n",
    "from sklearn.metrics import classification_report, confusion_matrix, accuracy_score\n",
    "from sklearn.model_selection import GridSearchCV, RandomizedSearchCV\n",
    "import matplotlib.pyplot as plt\n",
    "\n",
    "nltk.download('punkt')\n",
    "nltk.download('stopwords')\n",
    "\n",
    "warnings.filterwarnings('ignore', category=UserWarning, module='ebooklib')\n",
    "from nltk.stem import WordNetLemmatizer\n"
   ]
  },
  {
   "cell_type": "markdown",
   "id": "0eab4ef8",
   "metadata": {},
   "source": [
    "## Cell 2: Extract Text from EPUB\n"
   ]
  },
  {
   "cell_type": "code",
   "execution_count": null,
   "id": "b73708fc",
   "metadata": {},
   "outputs": [],
   "source": [
    "def extract_text_from_epub(file_path):\n",
    "    try:\n",
    "        book = epub.read_epub(file_path)\n",
    "        text = []\n",
    "        for item in book.get_items():\n",
    "            if item.get_type() == ITEM_DOCUMENT:\n",
    "                soup = BeautifulSoup(item.get_body_content(), 'html.parser')\n",
    "                text.append(soup.get_text())\n",
    "        return ' '.join(text)\n",
    "    except Exception as e:\n",
    "        print(f\"Error reading {file_path}: {e}\")\n",
    "        return None\n"
   ]
  },
  {
   "cell_type": "markdown",
   "id": "1e036a03",
   "metadata": {},
   "source": [
    "## Cell 3: Translate Text to English"
   ]
  },
  {
   "cell_type": "code",
   "execution_count": null,
   "id": "02419d98",
   "metadata": {},
   "outputs": [],
   "source": [
    "def translate_to_english(text):\n",
    "    if not text or not isinstance(text, str):\n",
    "        return text\n",
    "    try:\n",
    "        if detect(text) == 'en':\n",
    "            return text\n",
    "        translator = Translator()\n",
    "        translation = translator.translate(text)\n",
    "        return translation.text\n",
    "    except Exception as e:\n",
    "        print(f\"Translation error: {e}\")\n",
    "        return text\n"
   ]
  },
  {
   "cell_type": "markdown",
   "id": "e56f3b38",
   "metadata": {},
   "source": [
    "## Cell 4: Preprocess Text"
   ]
  },
  {
   "cell_type": "code",
   "execution_count": null,
   "id": "8a797842",
   "metadata": {},
   "outputs": [],
   "source": [
    "def preprocess_text(text):\n",
    "    lemmatizer = WordNetLemmatizer()\n",
    "    words = nltk.word_tokenize(text)\n",
    "    custom_stopwords = set(stopwords.words('english') + ['would', 'could', 'should', 'also', 'another'])\n",
    "    words = [lemmatizer.lemmatize(word.lower()) for word in words if word.isalnum() and word.lower() not in custom_stopwords]\n",
    "    return ' '.join(words)\n"
   ]
  },
  {
   "cell_type": "markdown",
   "id": "21ced538",
   "metadata": {},
   "source": [
    "## Cell 5: Load Data"
   ]
  },
  {
   "cell_type": "code",
   "execution_count": null,
   "id": "7f5cb4a2",
   "metadata": {},
   "outputs": [],
   "source": [
    "def load_data(directory, label):\n",
    "    data = []\n",
    "    for filename in os.listdir(directory):\n",
    "        if filename.endswith('.epub'):\n",
    "            file_path = os.path.join(directory, filename)\n",
    "            text = extract_text_from_epub(file_path)\n",
    "            if text:\n",
    "                translated_text = translate_to_english(text)\n",
    "                if translated_text:\n",
    "                    processed_text = preprocess_text(translated_text)\n",
    "                    data.append((processed_text, label))\n",
    "    return data\n",
    "\n",
    "# Define the directories containing the labelled EPUB files\n",
    "fiction_dir = r'C:\\\\Users\\\\vande\\\\Downloads\\\\epubs\\\\fiction'\n",
    "non_fiction_dir = r'C:\\\\Users\\\\vande\\\\Downloads\\\\epubs\\\\non-fiction'\n",
    "\n",
    "fiction_data = load_data(fiction_dir, 'Fiction')\n",
    "non_fiction_data = load_data(non_fiction_dir, 'Non-Fiction')\n"
   ]
  },
  {
   "cell_type": "markdown",
   "id": "4acebcc5",
   "metadata": {},
   "source": [
    "## Cell 6: Create DataFrame"
   ]
  },
  {
   "cell_type": "code",
   "execution_count": null,
   "id": "5bd38ad6",
   "metadata": {},
   "outputs": [],
   "source": [
    "# Create DataFrame\n",
    "df = pd.DataFrame(fiction_data + non_fiction_data, columns=['text', 'label'])\n",
    "\n",
    "# Encode labels\n",
    "df['label'] = df['label'].map({'Fiction': 0, 'Non-Fiction': 1})\n"
   ]
  },
  {
   "cell_type": "markdown",
   "id": "67879e02",
   "metadata": {},
   "source": [
    "## Cell 7: Split Data into Training and Test Sets"
   ]
  },
  {
   "cell_type": "code",
   "execution_count": null,
   "id": "d70cdcec",
   "metadata": {},
   "outputs": [],
   "source": [
    "# Split the data into training and test sets\n",
    "X_train, X_test, y_train, y_test = train_test_split(df['text'], df['label'], test_size=0.2, random_state=42, stratify=df['label'])\n"
   ]
  },
  {
   "cell_type": "markdown",
   "id": "4596b903",
   "metadata": {},
   "source": [
    "## Cell 8: Vectorize Text"
   ]
  },
  {
   "cell_type": "code",
   "execution_count": null,
   "id": "0cc1a690",
   "metadata": {},
   "outputs": [],
   "source": [
    "# Vectorize the text with more features and removing stop words\n",
    "stop_words = list(stopwords.words('english'))\n",
    "vectorizer = TfidfVectorizer(max_features=30000, stop_words=stop_words, ngram_range=(1, 3))  # Using trigrams\n",
    "X_train_vec = vectorizer.fit_transform(X_train)\n",
    "X_test_vec = vectorizer.transform(X_test)\n"
   ]
  },
  {
   "cell_type": "markdown",
   "id": "b70be6ec",
   "metadata": {},
   "source": [
    "## Cell 9: Train and Evaluate SVM Model with RandomizedSearchCV\n"
   ]
  },
  {
   "cell_type": "code",
   "execution_count": 58,
   "id": "84818946",
   "metadata": {},
   "outputs": [
    {
     "name": "stdout",
     "output_type": "stream",
     "text": [
      "SVM Classification Report:\n",
      "              precision    recall  f1-score   support\n",
      "\n",
      "           0       0.79      0.86      0.83        22\n",
      "           1       0.83      0.75      0.79        20\n",
      "\n",
      "    accuracy                           0.81        42\n",
      "   macro avg       0.81      0.81      0.81        42\n",
      "weighted avg       0.81      0.81      0.81        42\n",
      "\n",
      "SVM Confusion Matrix:\n",
      "[[19  3]\n",
      " [ 5 15]]\n",
      "SVM Accuracy: 80.95%\n"
     ]
    }
   ],
   "source": [
    "svm_model = SVC(probability=True)\n",
    "param_dist_svm = {\n",
    "    'C': [0.1, 1, 10, 100, 1000],\n",
    "    'kernel': ['linear', 'rbf', 'poly'],\n",
    "    'gamma': ['scale', 'auto']\n",
    "}\n",
    "random_search_svm = RandomizedSearchCV(svm_model, param_dist_svm, n_iter=20, cv=5, random_state=42)\n",
    "random_search_svm.fit(X_train_vec, y_train)\n",
    "\n",
    "# Predict on the test set\n",
    "y_pred_svm = random_search_svm.predict(X_test_vec)\n",
    "\n",
    "# Evaluation\n",
    "print(\"SVM Classification Report:\")\n",
    "print(classification_report(y_test, y_pred_svm))\n",
    "print(\"SVM Confusion Matrix:\")\n",
    "print(confusion_matrix(y_test, y_pred_svm))\n",
    "svm_accuracy = accuracy_score(y_test, y_pred_svm)\n",
    "print(f\"SVM Accuracy: {svm_accuracy:.2%}\")\n"
   ]
  },
  {
   "cell_type": "markdown",
   "id": "c36e9fdf",
   "metadata": {},
   "source": [
    "## Cell 10: Train and Evaluate Random Forest Classifier"
   ]
  },
  {
   "cell_type": "code",
   "execution_count": 59,
   "id": "270c8d6e",
   "metadata": {},
   "outputs": [
    {
     "name": "stderr",
     "output_type": "stream",
     "text": [
      "C:\\Users\\vande\\anaconda3\\Lib\\site-packages\\sklearn\\model_selection\\_validation.py:547: FitFailedWarning: \n",
      "150 fits failed out of a total of 450.\n",
      "The score on these train-test partitions for these parameters will be set to nan.\n",
      "If these failures are not expected, you can try to debug them by setting error_score='raise'.\n",
      "\n",
      "Below are more details about the failures:\n",
      "--------------------------------------------------------------------------------\n",
      "150 fits failed with the following error:\n",
      "Traceback (most recent call last):\n",
      "  File \"C:\\Users\\vande\\anaconda3\\Lib\\site-packages\\sklearn\\model_selection\\_validation.py\", line 895, in _fit_and_score\n",
      "    estimator.fit(X_train, y_train, **fit_params)\n",
      "  File \"C:\\Users\\vande\\anaconda3\\Lib\\site-packages\\sklearn\\base.py\", line 1467, in wrapper\n",
      "    estimator._validate_params()\n",
      "  File \"C:\\Users\\vande\\anaconda3\\Lib\\site-packages\\sklearn\\base.py\", line 666, in _validate_params\n",
      "    validate_parameter_constraints(\n",
      "  File \"C:\\Users\\vande\\anaconda3\\Lib\\site-packages\\sklearn\\utils\\_param_validation.py\", line 95, in validate_parameter_constraints\n",
      "    raise InvalidParameterError(\n",
      "sklearn.utils._param_validation.InvalidParameterError: The 'max_features' parameter of RandomForestClassifier must be an int in the range [1, inf), a float in the range (0.0, 1.0], a str among {'sqrt', 'log2'} or None. Got 'auto' instead.\n",
      "\n",
      "  warnings.warn(some_fits_failed_message, FitFailedWarning)\n",
      "C:\\Users\\vande\\anaconda3\\Lib\\site-packages\\sklearn\\model_selection\\_search.py:1051: UserWarning: One or more of the test scores are non-finite: [       nan        nan        nan 0.85151515 0.83975045 0.8516934\n",
      " 0.82798574 0.8456328  0.8516934         nan        nan        nan\n",
      " 0.83404635 0.85151515 0.85757576 0.84581105 0.83368984 0.8516934\n",
      "        nan        nan        nan 0.8516934  0.8516934  0.8456328\n",
      " 0.84545455 0.84581105 0.85757576        nan        nan        nan\n",
      " 0.85775401 0.83975045 0.85757576 0.82816399 0.85151515 0.8516934\n",
      "        nan        nan        nan 0.8399287  0.8516934  0.8516934\n",
      " 0.86327986 0.8516934  0.8516934         nan        nan        nan\n",
      " 0.8516934  0.84581105 0.84581105 0.85757576 0.85757576 0.85151515\n",
      "        nan        nan        nan 0.85793226 0.8516934  0.8516934\n",
      " 0.82192513 0.84581105 0.84581105        nan        nan        nan\n",
      " 0.8516934  0.8516934  0.8399287  0.84581105 0.85151515 0.8516934\n",
      "        nan        nan        nan 0.8456328  0.8456328  0.84581105\n",
      " 0.8399287  0.84545455 0.84581105        nan        nan        nan\n",
      " 0.8516934  0.8399287  0.8516934  0.83404635 0.83386809 0.8516934 ]\n",
      "  warnings.warn(\n"
     ]
    },
    {
     "name": "stdout",
     "output_type": "stream",
     "text": [
      "Random Forest Classification Report:\n",
      "              precision    recall  f1-score   support\n",
      "\n",
      "           0       0.78      0.82      0.80        22\n",
      "           1       0.79      0.75      0.77        20\n",
      "\n",
      "    accuracy                           0.79        42\n",
      "   macro avg       0.79      0.78      0.78        42\n",
      "weighted avg       0.79      0.79      0.79        42\n",
      "\n",
      "Random Forest Confusion Matrix:\n",
      "[[18  4]\n",
      " [ 5 15]]\n",
      "Random Forest Accuracy: 78.57%\n"
     ]
    }
   ],
   "source": [
    "rf_model = RandomForestClassifier()\n",
    "param_grid_rf = {\n",
    "    'n_estimators': [100, 200, 500],\n",
    "    'max_features': ['auto', 'sqrt', 'log2'],\n",
    "    'max_depth': [4, 5, 6, 7, 8],\n",
    "    'criterion': ['gini', 'entropy']\n",
    "}\n",
    "grid_search_rf = GridSearchCV(rf_model, param_grid_rf, cv=5)\n",
    "grid_search_rf.fit(X_train_vec, y_train)\n",
    "\n",
    "# Predict on the test set\n",
    "y_pred_rf = grid_search_rf.predict(X_test_vec)\n",
    "\n",
    "# Evaluation\n",
    "print(\"Random Forest Classification Report:\")\n",
    "print(classification_report(y_test, y_pred_rf))\n",
    "print(\"Random Forest Confusion Matrix:\")\n",
    "print(confusion_matrix(y_test, y_pred_rf))\n",
    "rf_accuracy = accuracy_score(y_test, y_pred_rf)\n",
    "print(f\"Random Forest Accuracy: {rf_accuracy:.2%}\")\n"
   ]
  },
  {
   "cell_type": "markdown",
   "id": "e9c67f02",
   "metadata": {},
   "source": [
    "## Cell 11: Train and Evaluate Naive Bayes Model\n"
   ]
  },
  {
   "cell_type": "code",
   "execution_count": 60,
   "id": "52c310e9",
   "metadata": {},
   "outputs": [
    {
     "name": "stdout",
     "output_type": "stream",
     "text": [
      "Naive Bayes Classification Report:\n",
      "              precision    recall  f1-score   support\n",
      "\n",
      "           0       0.78      0.95      0.86        22\n",
      "           1       0.93      0.70      0.80        20\n",
      "\n",
      "    accuracy                           0.83        42\n",
      "   macro avg       0.86      0.83      0.83        42\n",
      "weighted avg       0.85      0.83      0.83        42\n",
      "\n",
      "Naive Bayes Confusion Matrix:\n",
      "[[21  1]\n",
      " [ 6 14]]\n",
      "Naive Bayes Accuracy: 83.33%\n"
     ]
    }
   ],
   "source": [
    "nb_model = MultinomialNB()\n",
    "param_grid_nb = {\n",
    "    'alpha': [0.1, 0.5, 1.0, 2.0]\n",
    "}\n",
    "grid_search_nb = GridSearchCV(nb_model, param_grid_nb, cv=5)\n",
    "grid_search_nb.fit(X_train_vec, y_train)\n",
    "\n",
    "# Predict on the test set\n",
    "y_pred_nb = grid_search_nb.predict(X_test_vec)\n",
    "\n",
    "# Evaluation\n",
    "print(\"Naive Bayes Classification Report:\")\n",
    "print(classification_report(y_test, y_pred_nb))\n",
    "print(\"Naive Bayes Confusion Matrix:\")\n",
    "print(confusion_matrix(y_test, y_pred_nb))\n",
    "nb_accuracy = accuracy_score(y_test, y_pred_nb)\n",
    "print(f\"Naive Bayes Accuracy: {nb_accuracy:.2%}\")\n"
   ]
  },
  {
   "cell_type": "markdown",
   "id": "70ba8bf0",
   "metadata": {},
   "source": [
    "## Cell 12: Train and Evaluate Logistic Regression Model\n"
   ]
  },
  {
   "cell_type": "code",
   "execution_count": 61,
   "id": "bd01409c",
   "metadata": {
    "scrolled": true
   },
   "outputs": [
    {
     "name": "stdout",
     "output_type": "stream",
     "text": [
      "Logistic Regression Classification Report:\n",
      "              precision    recall  f1-score   support\n",
      "\n",
      "           0       0.78      0.82      0.80        22\n",
      "           1       0.79      0.75      0.77        20\n",
      "\n",
      "    accuracy                           0.79        42\n",
      "   macro avg       0.79      0.78      0.78        42\n",
      "weighted avg       0.79      0.79      0.79        42\n",
      "\n",
      "Logistic Regression Confusion Matrix:\n",
      "[[18  4]\n",
      " [ 5 15]]\n",
      "Logistic Regression Accuracy: 78.57%\n"
     ]
    }
   ],
   "source": [
    "lr_model = LogisticRegression(max_iter=1000)\n",
    "param_grid_lr = {\n",
    "    'C': [0.1, 1, 10, 100],\n",
    "    'solver': ['newton-cg', 'lbfgs', 'liblinear']\n",
    "}\n",
    "grid_search_lr = GridSearchCV(lr_model, param_grid_lr, cv=5)\n",
    "grid_search_lr.fit(X_train_vec, y_train)\n",
    "\n",
    "# Predict on the test set\n",
    "y_pred_lr = grid_search_lr.predict(X_test_vec)\n",
    "\n",
    "# Evaluation\n",
    "print(\"Logistic Regression Classification Report:\")\n",
    "print(classification_report(y_test, y_pred_lr))\n",
    "print(\"Logistic Regression Confusion Matrix:\")\n",
    "print(confusion_matrix(y_test, y_pred_lr))\n",
    "lr_accuracy = accuracy_score(y_test, y_pred_lr)\n",
    "print(f\"Logistic Regression Accuracy: {lr_accuracy:.2%}\")"
   ]
  },
  {
   "cell_type": "markdown",
   "id": "63928a54",
   "metadata": {},
   "source": [
    "## Cell 13: Train and Evaluate XGBoost Model\n"
   ]
  },
  {
   "cell_type": "code",
   "execution_count": 63,
   "id": "0d0b2b62",
   "metadata": {},
   "outputs": [
    {
     "name": "stdout",
     "output_type": "stream",
     "text": [
      "XGBoost Classification Report:\n",
      "              precision    recall  f1-score   support\n",
      "\n",
      "           0       0.90      0.82      0.86        22\n",
      "           1       0.82      0.90      0.86        20\n",
      "\n",
      "    accuracy                           0.86        42\n",
      "   macro avg       0.86      0.86      0.86        42\n",
      "weighted avg       0.86      0.86      0.86        42\n",
      "\n",
      "XGBoost Confusion Matrix:\n",
      "[[18  4]\n",
      " [ 2 18]]\n",
      "XGBoost Accuracy: 85.71%\n"
     ]
    }
   ],
   "source": [
    "xgb_model = XGBClassifier()\n",
    "param_grid_xgb = {\n",
    "    'n_estimators': [100, 200, 500],\n",
    "    'max_depth': [4, 5, 6, 7, 8],\n",
    "    'learning_rate': [0.01, 0.05, 0.1, 0.2],\n",
    "    'subsample': [0.6, 0.8, 1.0]\n",
    "}\n",
    "grid_search_xgb = GridSearchCV(xgb_model, param_grid_xgb, cv=5)\n",
    "grid_search_xgb.fit(X_train_vec, y_train)\n",
    "\n",
    "# Predict on the test set\n",
    "y_pred_xgb = grid_search_xgb.predict(X_test_vec)\n",
    "\n",
    "# Evaluation\n",
    "print(\"XGBoost Classification Report:\")\n",
    "print(classification_report(y_test, y_pred_xgb))\n",
    "print(\"XGBoost Confusion Matrix:\")\n",
    "print(confusion_matrix(y_test, y_pred_xgb))\n",
    "xgb_accuracy = accuracy_score(y_test, y_pred_xgb)\n",
    "print(f\"XGBoost Accuracy: {xgb_accuracy:.2%}\")\n",
    " "
   ]
  },
  {
   "cell_type": "markdown",
   "id": "fa7939a0",
   "metadata": {},
   "source": [
    "## Cell 14: Enhanced Voting Classifier with Gradient Boosting\n"
   ]
  },
  {
   "cell_type": "code",
   "execution_count": 65,
   "id": "4be6fe74",
   "metadata": {},
   "outputs": [
    {
     "name": "stdout",
     "output_type": "stream",
     "text": [
      "Enhanced Voting Classifier Classification Report:\n",
      "              precision    recall  f1-score   support\n",
      "\n",
      "           0       0.79      0.86      0.83        22\n",
      "           1       0.83      0.75      0.79        20\n",
      "\n",
      "    accuracy                           0.81        42\n",
      "   macro avg       0.81      0.81      0.81        42\n",
      "weighted avg       0.81      0.81      0.81        42\n",
      "\n",
      "Enhanced Voting Classifier Confusion Matrix:\n",
      "[[19  3]\n",
      " [ 5 15]]\n",
      "Enhanced Voting Classifier Accuracy: 80.95%\n"
     ]
    }
   ],
   "source": [
    "# Create a Voting Classifier with SVM, Naive Bayes, Logistic Regression, Random Forest, and XGBoost\n",
    "voting_clf = VotingClassifier(\n",
    "    estimators=[\n",
    "        ('svm', random_search_svm.best_estimator_),\n",
    "        ('nb', grid_search_nb.best_estimator_),\n",
    "        ('lr', grid_search_lr.best_estimator_),\n",
    "        ('rf', grid_search_rf.best_estimator_),\n",
    "        ('xgb', grid_search_xgb.best_estimator_)\n",
    "    ],\n",
    "    voting='soft'\n",
    ")\n",
    "\n",
    "# Fit the Voting Classifier\n",
    "voting_clf.fit(X_train_vec, y_train)\n",
    "\n",
    "# Predict on the test set using the Voting Classifier\n",
    "y_pred_voting = voting_clf.predict(X_test_vec)\n",
    "\n",
    "# Evaluation\n",
    "print(\"Enhanced Voting Classifier Classification Report:\")\n",
    "print(classification_report(y_test, y_pred_voting))\n",
    "print(\"Enhanced Voting Classifier Confusion Matrix:\")\n",
    "print(confusion_matrix(y_test, y_pred_voting))\n",
    "voting_accuracy = accuracy_score(y_test, y_pred_voting)\n",
    "print(f\"Enhanced Voting Classifier Accuracy: {voting_accuracy:.2%}\")\n"
   ]
  },
  {
   "cell_type": "markdown",
   "id": "a612ff2f",
   "metadata": {},
   "source": [
    "## Cell 15: Plot Model Accuracies\n"
   ]
  },
  {
   "cell_type": "code",
   "execution_count": 66,
   "id": "8af06752",
   "metadata": {},
   "outputs": [
    {
     "data": {
      "image/png": "[encoded data removed]",
      "text/plain": [
       "<Figure size 1000x600 with 1 Axes>"
      ]
     },
     "metadata": {},
     "output_type": "display_data"
    }
   ],
   "source": [
    "# Model names and their corresponding accuracies\n",
    "models = ['SVM', 'Random Forest', 'Naive Bayes', 'Logistic Regression', 'XGBoost', 'Voting Classifier']\n",
    "accuracies = [svm_accuracy, rf_accuracy, nb_accuracy, lr_accuracy, xgb_accuracy, voting_accuracy]\n",
    "\n",
    "# Plotting the accuracies\n",
    "plt.figure(figsize=(10, 6))\n",
    "bars = plt.bar(models, accuracies, color=['blue', 'green', 'red', 'orange', 'cyan', 'purple'])\n",
    "plt.ylim(0, 1)\n",
    "plt.xlabel('Models')\n",
    "plt.ylabel('Accuracy')\n",
    "plt.title('Comparison of Model Accuracies')\n",
    "plt.xticks(rotation=45)\n",
    "\n",
    "# Adding percentage labels on top of each bar\n",
    "for bar in bars:\n",
    "    yval = bar.get_height()\n",
    "    plt.text(bar.get_x() + bar.get_width()/2, yval + 0.01, f'{yval:.2%}', ha='center', va='bottom')\n",
    "\n",
    "plt.show()"
   ]
  },
  {
   "cell_type": "code",
   "execution_count": null,
   "id": "45e01fba",
   "metadata": {},
   "outputs": [],
   "source": []
  }
 ],
 "metadata": {
  "kernelspec": {
   "display_name": "Python 3 (ipykernel)",
   "language": "python",
   "name": "python3"
  },
  "language_info": {
   "codemirror_mode": {
    "name": "ipython",
    "version": 3
   },
   "file_extension": ".py",
   "mimetype": "text/x-python",
   "name": "python",
   "nbconvert_exporter": "python",
   "pygments_lexer": "ipython3",
   "version": "3.11.5"
  }
 },
 "nbformat": 4,
 "nbformat_minor": 5
}
